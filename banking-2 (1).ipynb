{
 "cells": [
  {
   "cell_type": "code",
   "execution_count": 5,
   "id": "01f8d1c4-e661-4729-aac0-c3bda7806302",
   "metadata": {},
   "outputs": [
    {
     "name": "stdout",
     "output_type": "stream",
     "text": [
      "          Date       Account_Type    Branch Transaction_Type  \\\n",
      "15  2023-01-03            Savings  Suburban   Service Charge   \n",
      "8   2023-01-20  Recurring Deposit  Downtown   Service Charge   \n",
      "2   2023-01-10            Current    Uptown     Loan Payment   \n",
      "7   2023-01-09            Current   Central     Loan Payment   \n",
      "17  2023-01-07            Current   Central     Loan Payment   \n",
      "1   2023-01-16            Current    Uptown       Withdrawal   \n",
      "19  2023-01-17            Savings   Central          Deposit   \n",
      "18  2023-01-12  Recurring Deposit  Suburban   Service Charge   \n",
      "16  2023-01-02      Fixed Deposit   Central          Deposit   \n",
      "14  2023-01-01      Fixed Deposit  Downtown       Withdrawal   \n",
      "\n",
      "    Transaction_Amount  Account_Balance  Transaction_Fee Balance_Status  \n",
      "15             3350.32         12836.51          67.0064   High Balance  \n",
      "8              3899.98         12646.56          77.9996   High Balance  \n",
      "2              3363.85         12428.67          67.2770   High Balance  \n",
      "7              2346.72         10708.85          46.9344   High Balance  \n",
      "17             4116.52          9785.64          82.3304   High Balance  \n",
      "1               641.43          8908.39          12.8286   High Balance  \n",
      "19             4516.52          8789.19          90.3304   High Balance  \n",
      "18             1339.57          8666.74          26.7914   High Balance  \n",
      "16             4421.57          8330.40          88.4314   High Balance  \n",
      "14             4136.54          8175.08          82.7308   High Balance  \n",
      "      Branch  Transaction_Amount  Transaction_Rank\n",
      "0    Central              985.51               7.0\n",
      "1     Uptown              641.43               4.0\n",
      "2     Uptown             3363.85               1.0\n",
      "3     Uptown             1914.60               2.0\n",
      "4   Suburban             2788.57               3.0\n",
      "5   Suburban             4584.05               1.0\n",
      "6    Central             1621.82               6.0\n",
      "7    Central             2346.72               5.0\n",
      "8   Downtown             3899.98               2.0\n",
      "9   Downtown             1529.59               3.0\n",
      "10   Central              846.41               8.0\n",
      "11  Suburban             1803.88               4.0\n",
      "12    Uptown             1225.50               3.0\n",
      "13   Central             4683.64               1.0\n",
      "14  Downtown             4136.54               1.0\n",
      "15  Suburban             3350.32               2.0\n",
      "16   Central             4421.57               3.0\n",
      "17   Central             4116.52               4.0\n",
      "18  Suburban             1339.57               5.0\n",
      "19   Central             4516.52               2.0\n"
     ]
    }
   ],
   "source": [
    "import pandas as pd\n",
    "sorted_data = banking_data.sort_values(by='Account_Balance', ascending=False).head(10)\n",
    "banking_data['Transaction_Rank'] = banking_data.groupby('Branch')['Transaction_Amount'].rank(ascending=False)\n",
    "print(sorted_data)\n",
    "print(banking_data[['Branch', 'Transaction_Amount', 'Transaction_Rank']].head(20))\n"
   ]
  },
  {
   "cell_type": "code",
   "execution_count": null,
   "id": "6b1a035e-4874-450e-9a0d-61f9cf85053a",
   "metadata": {},
   "outputs": [],
   "source": []
  }
 ],
 "metadata": {
  "kernelspec": {
   "display_name": "Python [conda env:base] *",
   "language": "python",
   "name": "conda-base-py"
  },
  "language_info": {
   "codemirror_mode": {
    "name": "ipython",
    "version": 3
   },
   "file_extension": ".py",
   "mimetype": "text/x-python",
   "name": "python",
   "nbconvert_exporter": "python",
   "pygments_lexer": "ipython3",
   "version": "3.12.7"
  }
 },
 "nbformat": 4,
 "nbformat_minor": 5
}
