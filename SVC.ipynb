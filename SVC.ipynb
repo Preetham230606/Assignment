{
 "cells": [
  {
   "cell_type": "code",
   "execution_count": null,
   "id": "88fe028f-e57a-4ab8-bcc3-d93f093a66d2",
   "metadata": {},
   "outputs": [],
   "source": [
    "import pandas as pd\n",
    "import numpy as nnp\n",
    "from sklearn.svm import SVC\n",
    "from sklearn.model_selection import GridSearchCV, RandomizedSearchCV\n",
    "from sklearn.metrics import classification_report\n",
    "from sklearn.metrics import accuracy_score, confusion_matrix\n",
    "from sklearn.model_selection import train_test_split, cross_val_score, StratifiedKFold"
   ]
  },
  {
   "cell_type": "code",
   "execution_count": null,
   "id": "373d85cd-5b91-4908-967d-a158a46e6239",
   "metadata": {},
   "outputs": [],
   "source": [
    "dataframe = pd.read_csv('diabetes.csv')\n",
    "dataframe"
   ]
  },
  {
   "cell_type": "code",
   "execution_count": null,
   "id": "b3e3a174-6bea-40a4-9f32-544503b15f74",
   "metadata": {},
   "outputs": [],
   "source": [
    "array = dataframe.values\n",
    "X = array[:,0:8]\n",
    "Y = array[:,8]"
   ]
  },
  {
   "cell_type": "code",
   "execution_count": null,
   "id": "36bb24be-d335-4b6c-9f1f-9ccc9e3a70fb",
   "metadata": {},
   "outputs": [],
   "source": [
    "X_train, X_test, y_train, y_test, = train_test_split(X,Y, test_size = 0.2, stratify =Y)"
   ]
  },
  {
   "cell_type": "code",
   "execution_count": null,
   "id": "7fe7e3d4-d9f4-4dea-9ecc-95730add9f61",
   "metadata": {},
   "outputs": [],
   "source": [
    "X_train.shape, y_train.shape, X_test.shape, y_test.shape"
   ]
  },
  {
   "cell_type": "code",
   "execution_count": null,
   "id": "183c594f-8cbb-4d7f-a825-cb1e01e5ad0d",
   "metadata": {},
   "outputs": [],
   "source": [
    "clf = SVC()\n",
    "clf.fit(X_train,y_train)"
   ]
  },
  {
   "cell_type": "code",
   "execution_count": null,
   "id": "f9215c5b-27c4-4905-acd3-b02adb6ce712",
   "metadata": {},
   "outputs": [],
   "source": [
    "y_predict = clf.predict(X_test)"
   ]
  },
  {
   "cell_type": "code",
   "execution_count": null,
   "id": "c6f8772d-0ad6-4224-859c-40c0d26dcceb",
   "metadata": {},
   "outputs": [],
   "source": [
    "print(classification_report(y_test, y_predict))"
   ]
  },
  {
   "cell_type": "code",
   "execution_count": null,
   "id": "5f9d1691-a0ed-4bd5-9f96-6fed47b2dc3b",
   "metadata": {},
   "outputs": [],
   "source": [
    "accuracy_score(y_train, clf.predict(X_train))"
   ]
  },
  {
   "cell_type": "markdown",
   "id": "9e7e9ea6-668a-4af4-877b-677249bcdfb8",
   "metadata": {},
   "source": [
    "#### Hyper Parameter Tunning"
   ]
  },
  {
   "cell_type": "code",
   "execution_count": null,
   "id": "5e3efc3b-0ec8-4805-8a55-91181b063b48",
   "metadata": {},
   "outputs": [],
   "source": [
    "clf = SVC()\n",
    "param_grid = [{'kernel': ['linear', 'rbf'], 'C': [0.1, 1, 10],'gamma': [0.1, 0.5, 1] }]\n",
    "Kfold = StratifiedKFold(n_splits=5)\n",
    "gsv = RandomizedSearchCV(clf, param_distributions=param_grid, cv=Kfold, scoring='recall', n_iter=10)  # Added n_iter\n",
    "gsv.fit(X_train, y_train)"
   ]
  },
  {
   "cell_type": "code",
   "execution_count": null,
   "id": "e60b9017-658f-49e9-968f-beecfc57088c",
   "metadata": {},
   "outputs": [],
   "source": [
    "gsv.best_params_, gsv.best_score_"
   ]
  },
  {
   "cell_type": "code",
   "execution_count": null,
   "id": "7aa2af60-9f47-4b8d-aaf3-a8c7326f8539",
   "metadata": {},
   "outputs": [],
   "source": [
    "clf_model = SVC(kenrel='linear',C=1)\n",
    "clf_model.fit(X_train,y_train)\n",
    "y_pred = clf_model.predict(X_test)\n",
    "acc = accuracy_score(y_test, y_test)\n",
    "print(\"Accuracy =\", acc)\n",
    "confusion_matrix(y_test, y_pred)"
   ]
  },
  {
   "cell_type": "code",
   "execution_count": null,
   "id": "98e44fad-9f68-40a1-a1b1-2844b57a56f0",
   "metadata": {},
   "outputs": [],
   "source": [
    "y_pred"
   ]
  },
  {
   "cell_type": "code",
   "execution_count": null,
   "id": "99d0c30a-861c-4900-911b-7dfd6ca6dc00",
   "metadata": {},
   "outputs": [],
   "source": [
    "confusion_matrix(y_test, y_pred)"
   ]
  },
  {
   "cell_type": "code",
   "execution_count": null,
   "id": "1953d1e3-62f3-4f1b-8a2c-61acc8b53301",
   "metadata": {},
   "outputs": [],
   "source": [
    "print(classification_report(y_test, y_pred)"
   ]
  },
  {
   "cell_type": "code",
   "execution_count": null,
   "id": "dfbb0ace-0367-416e-a59a-a767dbd9c26f",
   "metadata": {},
   "outputs": [],
   "source": []
  }
 ],
 "metadata": {
  "kernelspec": {
   "display_name": "Python [conda env:base] *",
   "language": "python",
   "name": "conda-base-py"
  },
  "language_info": {
   "codemirror_mode": {
    "name": "ipython",
    "version": 3
   },
   "file_extension": ".py",
   "mimetype": "text/x-python",
   "name": "python",
   "nbconvert_exporter": "python",
   "pygments_lexer": "ipython3",
   "version": "3.12.7"
  }
 },
 "nbformat": 4,
 "nbformat_minor": 5
}
