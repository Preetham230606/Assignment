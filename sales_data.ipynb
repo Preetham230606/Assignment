{
 "cells": [
  {
   "cell_type": "code",
   "execution_count": null,
   "id": "d8e4ac4e-6208-4a97-abf9-eb8b1d234cac",
   "metadata": {},
   "outputs": [],
   "source": []
  }
 ],
 "metadata": {
  "kernelspec": {
   "display_name": "",
   "name": ""
  },
  "language_info": {
   "name": ""
  }
 },
 "nbformat": 4,
 "nbformat_minor": 5
}
