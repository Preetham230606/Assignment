{
 "cells": [
  {
   "cell_type": "code",
   "execution_count": 1,
   "id": "e27a78c7-dd1c-4277-ab77-2e73e6ee9c45",
   "metadata": {},
   "outputs": [
    {
     "name": "stdout",
     "output_type": "stream",
     "text": [
      "         Date       Account_Type    Branch Transaction_Type  \\\n",
      "0  2023-01-19      Fixed Deposit   Central     Loan Payment   \n",
      "1  2023-01-16            Current    Uptown       Withdrawal   \n",
      "2  2023-01-10            Current    Uptown     Loan Payment   \n",
      "3  2023-01-18            Savings    Uptown     Loan Payment   \n",
      "4  2023-01-14  Recurring Deposit  Suburban     Loan Payment   \n",
      "\n",
      "   Transaction_Amount  Account_Balance  \n",
      "0              985.51          6839.59  \n",
      "1              641.43          8908.39  \n",
      "2             3363.85         12428.67  \n",
      "3             1914.60          5776.63  \n",
      "4             2788.57          4779.04  \n",
      "       Transaction_Amount  Account_Balance\n",
      "count           20.000000        20.000000\n",
      "mean          2705.829500      7967.766500\n",
      "std           1429.829787      2770.248821\n",
      "min            641.430000      2592.160000\n",
      "25%           1482.085000      6460.127500\n",
      "50%           2567.645000      7905.275000\n",
      "75%           4121.525000      9127.702500\n",
      "max           4683.640000     12836.510000\n",
      "Date                  0\n",
      "Account_Type          0\n",
      "Branch                0\n",
      "Transaction_Type      0\n",
      "Transaction_Amount    0\n",
      "Account_Balance       0\n",
      "dtype: int64\n",
      "Account_Type\n",
      "Current              15052.57\n",
      "Fixed Deposit        14102.59\n",
      "Recurring Deposit    15179.99\n",
      "Savings               9781.44\n",
      "Name: Transaction_Amount, dtype: float64\n",
      "Account_Type\n",
      "Current              9893.404000\n",
      "Fixed Deposit        6120.380000\n",
      "Recurring Deposit    7627.283333\n",
      "Savings              9134.110000\n",
      "Name: Account_Balance, dtype: float64\n",
      "Branch\n",
      "Central     8\n",
      "Downtown    3\n",
      "Suburban    5\n",
      "Uptown      4\n",
      "dtype: int64\n",
      "Branch\n",
      "Central     2942.338750\n",
      "Downtown    3188.703333\n",
      "Suburban    2773.278000\n",
      "Uptown      1786.345000\n",
      "Name: Transaction_Amount, dtype: float64\n"
     ]
    }
   ],
   "source": [
    "import pandas as pd\n",
    "banking_data = pd.read_csv('banking_data.csv')\n",
    "print(banking_data.head())\n",
    "print(banking_data.describe())\n",
    "print(banking_data.isnull().sum())\n",
    "transaction_sum_by_account_type = banking_data.groupby('Account_Type')['Transaction_Amount'].sum()\n",
    "average_balance_by_account_type = banking_data.groupby('Account_Type')['Account_Balance'].mean()\n",
    "transaction_count_by_branch = banking_data.groupby('Branch').size()\n",
    "average_transaction_by_branch = banking_data.groupby('Branch')['Transaction_Amount'].mean()\n",
    "print(transaction_sum_by_account_type)\n",
    "print(average_balance_by_account_type)\n",
    "print(transaction_count_by_branch)\n",
    "print(average_transaction_by_branch)\n"
   ]
  },
  {
   "cell_type": "code",
   "execution_count": null,
   "id": "a9426157-079f-48a1-b2d1-e5a0c1145aa3",
   "metadata": {},
   "outputs": [],
   "source": []
  }
 ],
 "metadata": {
  "kernelspec": {
   "display_name": "Python [conda env:base] *",
   "language": "python",
   "name": "conda-base-py"
  },
  "language_info": {
   "codemirror_mode": {
    "name": "ipython",
    "version": 3
   },
   "file_extension": ".py",
   "mimetype": "text/x-python",
   "name": "python",
   "nbconvert_exporter": "python",
   "pygments_lexer": "ipython3",
   "version": "3.12.7"
  }
 },
 "nbformat": 4,
 "nbformat_minor": 5
}
